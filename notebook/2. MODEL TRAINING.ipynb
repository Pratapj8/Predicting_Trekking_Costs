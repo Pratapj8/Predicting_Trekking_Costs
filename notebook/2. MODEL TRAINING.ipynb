{
 "cells": [
  {
   "attachments": {},
   "cell_type": "markdown",
   "id": "92e48866",
   "metadata": {},
   "source": [
    "## Model Training"
   ]
  },
  {
   "cell_type": "markdown",
   "id": "25791a74",
   "metadata": {},
   "source": [
    "#### 1.1 Import Data and Required Packages\n",
    "##### Importing Pandas, Numpy, Matplotlib, Seaborn and Warings Library."
   ]
  },
  {
   "cell_type": "code",
   "execution_count": 44,
   "id": "44b1be14",
   "metadata": {},
   "outputs": [
    {
     "name": "stdout",
     "output_type": "stream",
     "text": [
      "Requirement already satisfied: catboost in /usr/local/lib/python3.10/site-packages (1.2.8)\n",
      "Requirement already satisfied: graphviz in /usr/local/lib/python3.10/site-packages (from catboost) (0.21)\n",
      "Requirement already satisfied: matplotlib in /usr/local/lib/python3.10/site-packages (from catboost) (3.10.7)\n",
      "Requirement already satisfied: numpy<3.0,>=1.16.0 in /usr/local/lib/python3.10/site-packages (from catboost) (2.2.6)\n",
      "Requirement already satisfied: pandas>=0.24 in /usr/local/lib/python3.10/site-packages (from catboost) (2.3.3)\n",
      "Requirement already satisfied: scipy in /usr/local/lib/python3.10/site-packages (from catboost) (1.15.3)\n",
      "Requirement already satisfied: plotly in /usr/local/lib/python3.10/site-packages (from catboost) (6.3.1)\n",
      "Requirement already satisfied: six in /Users/apple/Library/Python/3.10/lib/python/site-packages (from catboost) (1.17.0)\n",
      "Requirement already satisfied: python-dateutil>=2.8.2 in /Users/apple/Library/Python/3.10/lib/python/site-packages (from pandas>=0.24->catboost) (2.9.0.post0)\n",
      "Requirement already satisfied: pytz>=2020.1 in /usr/local/lib/python3.10/site-packages (from pandas>=0.24->catboost) (2025.2)\n",
      "Requirement already satisfied: tzdata>=2022.7 in /usr/local/lib/python3.10/site-packages (from pandas>=0.24->catboost) (2025.2)\n",
      "Requirement already satisfied: contourpy>=1.0.1 in /usr/local/lib/python3.10/site-packages (from matplotlib->catboost) (1.3.2)\n",
      "Requirement already satisfied: cycler>=0.10 in /usr/local/lib/python3.10/site-packages (from matplotlib->catboost) (0.12.1)\n",
      "Requirement already satisfied: fonttools>=4.22.0 in /usr/local/lib/python3.10/site-packages (from matplotlib->catboost) (4.60.1)\n",
      "Requirement already satisfied: kiwisolver>=1.3.1 in /usr/local/lib/python3.10/site-packages (from matplotlib->catboost) (1.4.9)\n",
      "Requirement already satisfied: packaging>=20.0 in /Users/apple/Library/Python/3.10/lib/python/site-packages (from matplotlib->catboost) (25.0)\n",
      "Requirement already satisfied: pillow>=8 in /usr/local/lib/python3.10/site-packages (from matplotlib->catboost) (12.0.0)\n",
      "Requirement already satisfied: pyparsing>=3 in /usr/local/lib/python3.10/site-packages (from matplotlib->catboost) (3.2.5)\n",
      "Requirement already satisfied: narwhals>=1.15.1 in /usr/local/lib/python3.10/site-packages (from plotly->catboost) (2.8.0)\n",
      "\n",
      "\u001b[1m[\u001b[0m\u001b[34;49mnotice\u001b[0m\u001b[1;39;49m]\u001b[0m\u001b[39;49m A new release of pip is available: \u001b[0m\u001b[31;49m24.3.1\u001b[0m\u001b[39;49m -> \u001b[0m\u001b[32;49m25.2\u001b[0m\n",
      "\u001b[1m[\u001b[0m\u001b[34;49mnotice\u001b[0m\u001b[1;39;49m]\u001b[0m\u001b[39;49m To update, run: \u001b[0m\u001b[32;49mpython3.10 -m pip install --upgrade pip\u001b[0m\n",
      "Note: you may need to restart the kernel to use updated packages.\n"
     ]
    }
   ],
   "source": [
    "pip install catboost"
   ]
  },
  {
   "cell_type": "code",
   "execution_count": 45,
   "id": "fdaabbb0",
   "metadata": {},
   "outputs": [
    {
     "name": "stdout",
     "output_type": "stream",
     "text": [
      "Requirement already satisfied: xgboost in /usr/local/lib/python3.10/site-packages (3.0.5)\n",
      "Requirement already satisfied: numpy in /usr/local/lib/python3.10/site-packages (from xgboost) (2.2.6)\n",
      "Requirement already satisfied: scipy in /usr/local/lib/python3.10/site-packages (from xgboost) (1.15.3)\n",
      "\n",
      "\u001b[1m[\u001b[0m\u001b[34;49mnotice\u001b[0m\u001b[1;39;49m]\u001b[0m\u001b[39;49m A new release of pip is available: \u001b[0m\u001b[31;49m24.3.1\u001b[0m\u001b[39;49m -> \u001b[0m\u001b[32;49m25.2\u001b[0m\n",
      "\u001b[1m[\u001b[0m\u001b[34;49mnotice\u001b[0m\u001b[1;39;49m]\u001b[0m\u001b[39;49m To update, run: \u001b[0m\u001b[32;49mpython3.10 -m pip install --upgrade pip\u001b[0m\n",
      "Note: you may need to restart the kernel to use updated packages.\n"
     ]
    }
   ],
   "source": [
    "pip install xgboost"
   ]
  },
  {
   "cell_type": "code",
   "execution_count": 1,
   "id": "b080dfb2",
   "metadata": {},
   "outputs": [],
   "source": [
    "# Basic Import\n",
    "import numpy as np\n",
    "import pandas as pd\n",
    "import matplotlib.pyplot as plt \n",
    "import seaborn as sns\n",
    "# Modelling\n",
    "from sklearn.metrics import mean_squared_error, r2_score\n",
    "from sklearn.neighbors import KNeighborsRegressor\n",
    "from sklearn.tree import DecisionTreeRegressor\n",
    "from sklearn.ensemble import RandomForestRegressor,AdaBoostRegressor\n",
    "from sklearn.svm import SVR\n",
    "from sklearn.linear_model import LinearRegression, Ridge,Lasso\n",
    "from sklearn.metrics import r2_score, mean_absolute_error, mean_squared_error\n",
    "from sklearn.model_selection import RandomizedSearchCV\n",
    "from catboost import CatBoostRegressor\n",
    "from xgboost import XGBRegressor\n",
    "import warnings"
   ]
  },
  {
   "cell_type": "markdown",
   "id": "e45079ad",
   "metadata": {},
   "source": [
    "#### Import the CSV Data as Pandas DataFrame"
   ]
  },
  {
   "cell_type": "code",
   "execution_count": 2,
   "id": "e11c6255",
   "metadata": {},
   "outputs": [],
   "source": [
    "df = pd.read_csv('/Users/apple/Downloads/Data_science_file/Agent8/Projects/Treking_cost_predictor/notebook/data/data.csv')"
   ]
  },
  {
   "cell_type": "code",
   "execution_count": 3,
   "id": "a287a537",
   "metadata": {},
   "outputs": [],
   "source": [
    "import pandas as pd\n",
    "\n",
    "# Assuming your main DataFrame is called df\n",
    "\n",
    "# 1. Columns with dtype int64\n",
    "int_df = df.select_dtypes(include=['int64'])\n",
    "\n",
    "# 2. Columns with dtype object (strings, etc.)\n",
    "object_df = df.select_dtypes(include=['object'])\n",
    "\n",
    "# 3. All other columns (float, bool, etc.)\n",
    "other_df = df.drop(columns=int_df.columns.union(object_df.columns))\n"
   ]
  },
  {
   "cell_type": "code",
   "execution_count": 4,
   "id": "daa221f1",
   "metadata": {},
   "outputs": [
    {
     "name": "stdout",
     "output_type": "stream",
     "text": [
      "INT columns: ['Duration_days', 'Elevation_gain_m', 'Max_altitude_m', 'Group_size', 'Guide_cost_rupees', 'Permit_fee_rupees', 'age', 'zip_code', 'emergency contact details', 'Hotel_Price_per_day', 'trek_total_cost(rupees)']\n",
      "OBJECT columns: ['trek_ID', 'Company Name', 'Trek_Location', 'Region', 'Country', 'Industry', 'Contact Email', 'Difficulty', 'Season', 'Weather', 'Accessibility', 'Accommodation', 'Currency', 'Best_Season', 'Best_Month', 'surname', 'address', 'phone_no', 'gender', 'city', 'state', 'traveler_name', 'health_check_up', 'payment status', 'booking_status', 'traveller_profession', 'payment information', 'identification documents (for permits)', 'Hotel_Name', 'City', 'trek_start_date', 'trek_end_date', 'trek_type', 'Backpack', 'Footwear', 'waterproof/windproof jackets', 'trekking_shoes', 'Lighting', 'Cash/online']\n",
      "OTHER dtype columns: ['trek_rating', 'Distance_km', 'Avg_temp_C', 'Permit_required', 'Local_cost_index', 'weight', 'height', 'bmi', 'accommodation_rating', 'wi-fi_facility', 'breakfast', 'lunch', 'dinner', 'pool', 'bar']\n"
     ]
    }
   ],
   "source": [
    "print(\"INT columns:\", int_df.columns.tolist())\n",
    "print(\"OBJECT columns:\", object_df.columns.tolist())\n",
    "print(\"OTHER dtype columns:\", other_df.columns.tolist())\n"
   ]
  },
  {
   "cell_type": "code",
   "execution_count": 7,
   "id": "fa568fae",
   "metadata": {},
   "outputs": [],
   "source": [
    "import pandas as pd\n",
    "\n",
    "# Select object and int columns separately\n",
    "object_cols = df.select_dtypes(include=['object'])\n",
    "int_cols = df.select_dtypes(include=['int64'])\n",
    "\n",
    "# Concatenate with object columns first\n",
    "ordered_df = pd.concat([object_cols, int_cols], axis=1)\n",
    "\n",
    "# Save to CSV\n",
    "ordered_df.to_csv('object_then_int_columns.csv', index=False)\n"
   ]
  },
  {
   "cell_type": "markdown",
   "id": "de904a65",
   "metadata": {},
   "source": [
    "#### drop - trek_ID , Contact Email,Company Name,trek_start_date,address,trek_end_date,phone_no ,Hotel_Name\n"
   ]
  },
  {
   "cell_type": "code",
   "execution_count": 8,
   "id": "e6fecbd9",
   "metadata": {},
   "outputs": [
    {
     "data": {
      "text/html": [
       "<div>\n",
       "<style scoped>\n",
       "    .dataframe tbody tr th:only-of-type {\n",
       "        vertical-align: middle;\n",
       "    }\n",
       "\n",
       "    .dataframe tbody tr th {\n",
       "        vertical-align: top;\n",
       "    }\n",
       "\n",
       "    .dataframe thead th {\n",
       "        text-align: right;\n",
       "    }\n",
       "</style>\n",
       "<table border=\"1\" class=\"dataframe\">\n",
       "  <thead>\n",
       "    <tr style=\"text-align: right;\">\n",
       "      <th></th>\n",
       "      <th>trek_ID</th>\n",
       "      <th>Company Name</th>\n",
       "      <th>Trek_Location</th>\n",
       "      <th>Region</th>\n",
       "      <th>Country</th>\n",
       "      <th>Industry</th>\n",
       "      <th>Contact Email</th>\n",
       "      <th>Difficulty</th>\n",
       "      <th>Season</th>\n",
       "      <th>Weather</th>\n",
       "      <th>...</th>\n",
       "      <th>Elevation_gain_m</th>\n",
       "      <th>Max_altitude_m</th>\n",
       "      <th>Group_size</th>\n",
       "      <th>Guide_cost_rupees</th>\n",
       "      <th>Permit_fee_rupees</th>\n",
       "      <th>age</th>\n",
       "      <th>zip_code</th>\n",
       "      <th>emergency contact details</th>\n",
       "      <th>Hotel_Price_per_day</th>\n",
       "      <th>trek_total_cost(rupees)</th>\n",
       "    </tr>\n",
       "  </thead>\n",
       "  <tbody>\n",
       "    <tr>\n",
       "      <th>0</th>\n",
       "      <td>TREK1000</td>\n",
       "      <td>Bhatnagar LLC Adventures</td>\n",
       "      <td>Rishikesh</td>\n",
       "      <td>Northeast India</td>\n",
       "      <td>India</td>\n",
       "      <td>Travel</td>\n",
       "      <td>tandonshivani@example.in</td>\n",
       "      <td>Easy</td>\n",
       "      <td>Autumn</td>\n",
       "      <td>Cloudy</td>\n",
       "      <td>...</td>\n",
       "      <td>658</td>\n",
       "      <td>1680</td>\n",
       "      <td>10</td>\n",
       "      <td>1032</td>\n",
       "      <td>0</td>\n",
       "      <td>56</td>\n",
       "      <td>593444</td>\n",
       "      <td>2075544566</td>\n",
       "      <td>1694</td>\n",
       "      <td>23439</td>\n",
       "    </tr>\n",
       "    <tr>\n",
       "      <th>1</th>\n",
       "      <td>TREK1001</td>\n",
       "      <td>Raghavan, Kadakia and Chandra Adventures</td>\n",
       "      <td>Tawang</td>\n",
       "      <td>East India</td>\n",
       "      <td>India</td>\n",
       "      <td>Adventure Sports</td>\n",
       "      <td>ybalakrishnan@example.in</td>\n",
       "      <td>Easy</td>\n",
       "      <td>Spring</td>\n",
       "      <td>Sunny</td>\n",
       "      <td>...</td>\n",
       "      <td>1337</td>\n",
       "      <td>3047</td>\n",
       "      <td>16</td>\n",
       "      <td>1037</td>\n",
       "      <td>0</td>\n",
       "      <td>20</td>\n",
       "      <td>973664</td>\n",
       "      <td>19825149</td>\n",
       "      <td>1410</td>\n",
       "      <td>22860</td>\n",
       "    </tr>\n",
       "    <tr>\n",
       "      <th>2</th>\n",
       "      <td>TREK1002</td>\n",
       "      <td>Agate, Sehgal and Lata Adventures</td>\n",
       "      <td>Darjeeling</td>\n",
       "      <td>West India</td>\n",
       "      <td>India</td>\n",
       "      <td>Tourism</td>\n",
       "      <td>harshnadkarni@example.org</td>\n",
       "      <td>Easy</td>\n",
       "      <td>Autumn</td>\n",
       "      <td>Windy</td>\n",
       "      <td>...</td>\n",
       "      <td>2282</td>\n",
       "      <td>3375</td>\n",
       "      <td>9</td>\n",
       "      <td>3525</td>\n",
       "      <td>1477</td>\n",
       "      <td>38</td>\n",
       "      <td>391558</td>\n",
       "      <td>269706764</td>\n",
       "      <td>2568</td>\n",
       "      <td>39875</td>\n",
       "    </tr>\n",
       "    <tr>\n",
       "      <th>3</th>\n",
       "      <td>TREK1003</td>\n",
       "      <td>Bal Ltd Adventures</td>\n",
       "      <td>Munnar</td>\n",
       "      <td>South India</td>\n",
       "      <td>India</td>\n",
       "      <td>Adventure Sports</td>\n",
       "      <td>rajtarak@example.in</td>\n",
       "      <td>Very Difficult</td>\n",
       "      <td>Monsoon</td>\n",
       "      <td>Cloudy</td>\n",
       "      <td>...</td>\n",
       "      <td>2445</td>\n",
       "      <td>3979</td>\n",
       "      <td>16</td>\n",
       "      <td>3807</td>\n",
       "      <td>1123</td>\n",
       "      <td>22</td>\n",
       "      <td>296421</td>\n",
       "      <td>9573835727</td>\n",
       "      <td>1218</td>\n",
       "      <td>11476</td>\n",
       "    </tr>\n",
       "    <tr>\n",
       "      <th>4</th>\n",
       "      <td>TREK1004</td>\n",
       "      <td>Balakrishnan, Wable and Kapadia Adventures</td>\n",
       "      <td>Munnar</td>\n",
       "      <td>North India</td>\n",
       "      <td>India</td>\n",
       "      <td>Adventure Sports</td>\n",
       "      <td>jtandon@example.org</td>\n",
       "      <td>Very Difficult</td>\n",
       "      <td>Winter</td>\n",
       "      <td>Snowy</td>\n",
       "      <td>...</td>\n",
       "      <td>2010</td>\n",
       "      <td>3268</td>\n",
       "      <td>9</td>\n",
       "      <td>900</td>\n",
       "      <td>408</td>\n",
       "      <td>54</td>\n",
       "      <td>195158</td>\n",
       "      <td>8833655734</td>\n",
       "      <td>2380</td>\n",
       "      <td>9876</td>\n",
       "    </tr>\n",
       "  </tbody>\n",
       "</table>\n",
       "<p>5 rows × 50 columns</p>\n",
       "</div>"
      ],
      "text/plain": [
       "    trek_ID                                Company Name Trek_Location  \\\n",
       "0  TREK1000                    Bhatnagar LLC Adventures     Rishikesh   \n",
       "1  TREK1001    Raghavan, Kadakia and Chandra Adventures        Tawang   \n",
       "2  TREK1002           Agate, Sehgal and Lata Adventures    Darjeeling   \n",
       "3  TREK1003                          Bal Ltd Adventures        Munnar   \n",
       "4  TREK1004  Balakrishnan, Wable and Kapadia Adventures        Munnar   \n",
       "\n",
       "            Region Country          Industry              Contact Email  \\\n",
       "0  Northeast India   India            Travel   tandonshivani@example.in   \n",
       "1       East India   India  Adventure Sports   ybalakrishnan@example.in   \n",
       "2       West India   India           Tourism  harshnadkarni@example.org   \n",
       "3      South India   India  Adventure Sports        rajtarak@example.in   \n",
       "4      North India   India  Adventure Sports        jtandon@example.org   \n",
       "\n",
       "       Difficulty   Season Weather  ... Elevation_gain_m Max_altitude_m  \\\n",
       "0            Easy   Autumn  Cloudy  ...              658           1680   \n",
       "1            Easy   Spring   Sunny  ...             1337           3047   \n",
       "2            Easy   Autumn   Windy  ...             2282           3375   \n",
       "3  Very Difficult  Monsoon  Cloudy  ...             2445           3979   \n",
       "4  Very Difficult   Winter   Snowy  ...             2010           3268   \n",
       "\n",
       "  Group_size Guide_cost_rupees Permit_fee_rupees age zip_code  \\\n",
       "0         10              1032                 0  56   593444   \n",
       "1         16              1037                 0  20   973664   \n",
       "2          9              3525              1477  38   391558   \n",
       "3         16              3807              1123  22   296421   \n",
       "4          9               900               408  54   195158   \n",
       "\n",
       "  emergency contact details Hotel_Price_per_day trek_total_cost(rupees)  \n",
       "0                2075544566                1694                   23439  \n",
       "1                  19825149                1410                   22860  \n",
       "2                 269706764                2568                   39875  \n",
       "3                9573835727                1218                   11476  \n",
       "4                8833655734                2380                    9876  \n",
       "\n",
       "[5 rows x 50 columns]"
      ]
     },
     "execution_count": 8,
     "metadata": {},
     "output_type": "execute_result"
    }
   ],
   "source": [
    "ordered_df.head(5)"
   ]
  },
  {
   "cell_type": "code",
   "execution_count": null,
   "id": "d099e827",
   "metadata": {},
   "outputs": [
    {
     "name": "stdout",
     "output_type": "stream",
     "text": [
      "trek_ID (500 unique): ['TREK1000' 'TREK1001' 'TREK1002' 'TREK1003' 'TREK1004' 'TREK1005'\n",
      " 'TREK1006' 'TREK1007' 'TREK1008' 'TREK1009']\n",
      "----------------------------------------\n",
      "Company Name (498 unique): ['Bhatnagar LLC Adventures' 'Raghavan, Kadakia and Chandra Adventures'\n",
      " 'Agate, Sehgal and Lata Adventures' 'Bal Ltd Adventures'\n",
      " 'Balakrishnan, Wable and Kapadia Adventures' 'Kashyap-Kanda Adventures'\n",
      " 'Chaudhry, Grewal and Minhas Adventures'\n",
      " 'Gupta, Mitter and Mander Adventures' 'Srinivasan and Sons Adventures'\n",
      " 'Prasad-Chadha Adventures']\n",
      "----------------------------------------\n",
      "Trek_Location (12 unique): ['Rishikesh' 'Tawang' 'Darjeeling' 'Munnar' 'Auli' 'Manali' 'Kodaikanal'\n",
      " 'Coorg' 'Nainital' 'Gangtok']\n",
      "----------------------------------------\n",
      "Region (5 unique): ['Northeast India' 'East India' 'West India' 'South India' 'North India']\n",
      "----------------------------------------\n",
      "Country (1 unique): ['India']\n",
      "----------------------------------------\n",
      "Industry (3 unique): ['Travel' 'Adventure Sports' 'Tourism']\n",
      "----------------------------------------\n",
      "Contact Email (499 unique): ['tandonshivani@example.in' 'ybalakrishnan@example.in'\n",
      " 'harshnadkarni@example.org' 'rajtarak@example.in' 'jtandon@example.org'\n",
      " 'bmann@example.in' 'natarajanxiti@example.in' 'ztiwari@example.net'\n",
      " 'qsachdeva@example.org' 'gtrivedi@example.org']\n",
      "----------------------------------------\n",
      "Difficulty (4 unique): ['Easy' 'Very Difficult' 'Difficult' 'Moderate']\n",
      "----------------------------------------\n",
      "Season (5 unique): ['Autumn' 'Spring' 'Monsoon' 'Winter' 'Summer']\n",
      "----------------------------------------\n",
      "Weather (5 unique): ['Cloudy' 'Sunny' 'Windy' 'Snowy' 'Rainy']\n",
      "----------------------------------------\n",
      "Accessibility (4 unique): ['Hike Only' 'Road' 'Train' 'Flight + Road']\n",
      "----------------------------------------\n",
      "Accommodation (4 unique): ['Tent' 'Lodge' 'Guest House' 'Hotel']\n",
      "----------------------------------------\n",
      "Currency (1 unique): ['INR']\n",
      "----------------------------------------\n",
      "Best_Season (5 unique): ['Autumn' 'Monsoon' 'Spring' 'Winter' 'Summer']\n",
      "----------------------------------------\n",
      "Best_Month (4 unique): ['September' 'October' 'June' 'May']\n",
      "----------------------------------------\n",
      "surname (321 unique): ['Ganguly' 'Dua' 'Buch' 'Ganesan' 'Dyal' 'Gola' 'Pandey' 'Kade' 'Iyengar'\n",
      " 'Hegde']\n",
      "----------------------------------------\n",
      "address (500 unique): ['093, Lala Marg, Rajpur Sonarpur 600276' '01, Borra Road, Dhule 404509'\n",
      " 'H.No. 96, Dasgupta Marg, Faridabad-931376'\n",
      " '20/83, Deep Ganj, Panipat-054304' '87, Bhatt Street, Latur-123399'\n",
      " '98/32, Dalal Circle, Haldia-378659'\n",
      " '878, Joshi Road, Narasaraopet-411368'\n",
      " '56, Cheema Ganj, Dibrugarh-620877'\n",
      " '727, Dhawan Street, Dibrugarh 181167'\n",
      " '99, Keer Circle, Ichalkaranji 900951']\n",
      "----------------------------------------\n",
      "phone_no (500 unique): ['+91 7950563497' '+91 6147674114' '+91 9332529169' '+91 635913058'\n",
      " '+91 9222730659' '+91 4286845591' '+91 9509904738' '+91 7980375500'\n",
      " '+91 1574641355' '+91 2793840800']\n",
      "----------------------------------------\n",
      "gender (3 unique): ['Male' 'Other' 'Female']\n",
      "----------------------------------------\n",
      "city (12 unique): ['Auli' 'Manali' 'Leh' 'Kodaikanal' 'Gangtok' 'Shimla' 'Munnar'\n",
      " 'Rishikesh' 'Nainital' 'Tawang']\n",
      "----------------------------------------\n",
      "state (8 unique): ['Kerala' 'Maharashtra' 'Sikkim' 'Arunachal Pradesh' 'Himachal Pradesh'\n",
      " 'Uttarakhand' 'Karnataka' 'Tamil Nadu']\n",
      "----------------------------------------\n",
      "traveler_name (500 unique): ['Anya Ganguly' 'Vasudha Dua' 'Gopal Buch' 'Ria Ganesan' 'Reyansh Dyal'\n",
      " 'Arya Gola' 'Kashvi Pandey' 'Chandani Kade' 'Caleb Iyengar'\n",
      " 'Warjas Hegde']\n",
      "----------------------------------------\n",
      "health_check_up (3 unique): ['Fit' 'Average' 'Needs Medical Clearance']\n",
      "----------------------------------------\n",
      "payment status (3 unique): ['Failed' 'Pending' 'Paid']\n",
      "----------------------------------------\n",
      "booking_status (3 unique): ['Waitlisted' 'Confirmed' 'Cancelled']\n",
      "----------------------------------------\n",
      "traveller_profession (5 unique): ['Student' 'Engineer' 'Business' 'Teacher' 'Doctor']\n",
      "----------------------------------------\n",
      "payment information (4 unique): ['Net Banking' 'Credit Card' 'Debit Card' 'UPI']\n",
      "----------------------------------------\n",
      "identification documents (for permits) (4 unique): ['Driving License' 'PAN' 'Passport' 'Aadhaar']\n",
      "----------------------------------------\n",
      "Hotel_Name (498 unique): ['Dhar-Dyal Lodge' 'Hayer-Iyengar Lodge' 'Saini LLC Lodge'\n",
      " 'Karnik-Narayanan Lodge' 'Bala, Nagy and Pandey Lodge'\n",
      " 'Som, Murty and Pall Lodge' 'Vyas Inc Lodge' 'Khalsa-Sawhney Lodge'\n",
      " 'Sarna, Ravi and Karan Lodge' 'Gulati-Patla Lodge']\n",
      "----------------------------------------\n",
      "City (12 unique): ['Munnar' 'Nainital' 'Manali' 'Darjeeling' 'Rishikesh' 'Tawang' 'Leh'\n",
      " 'Gangtok' 'Kodaikanal' 'Auli']\n",
      "----------------------------------------\n",
      "trek_start_date (213 unique): ['2025-04-07' '2025-03-07' '2025-04-22' '2025-10-11' '2025-03-13'\n",
      " '2025-09-06' '2025-04-04' '2025-02-16' '2025-07-02' '2025-02-14']\n",
      "----------------------------------------\n",
      "trek_end_date (210 unique): ['2025-04-14' '2025-03-15' '2025-04-28' '2025-10-17' '2025-03-17'\n",
      " '2025-09-12' '2025-04-13' '2025-02-20' '2025-07-08' '2025-02-19']\n",
      "----------------------------------------\n",
      "trek_type (3 unique): ['Solo' 'Group' 'Family']\n",
      "----------------------------------------\n",
      "Backpack (2 unique): ['No' 'Yes']\n",
      "----------------------------------------\n",
      "Footwear (3 unique): ['Sandals' 'Trekking Shoes' 'Sports Shoes']\n",
      "----------------------------------------\n",
      "waterproof/windproof jackets (2 unique): ['No' 'Yes']\n",
      "----------------------------------------\n",
      "trekking_shoes (2 unique): ['Yes' 'No']\n",
      "----------------------------------------\n",
      "Lighting (3 unique): ['Torch' 'Not_required' 'Headlamp']\n",
      "----------------------------------------\n",
      "Cash/online (3 unique): ['Online' 'Cash' 'Both']\n",
      "----------------------------------------\n",
      "Duration_days (13 unique): [14  5 11 10  6  7  2  4  8  3]\n",
      "----------------------------------------\n",
      "Elevation_gain_m (462 unique): [ 658 1337 2282 2445 2010 3100 2097 2255 2433  544]\n",
      "----------------------------------------\n",
      "Max_altitude_m (476 unique): [1680 3047 3375 3979 3268 4722 3305 2784 3903 2516]\n",
      "----------------------------------------\n",
      "Group_size (17 unique): [10 16  9 20 18 15 17 14 12  6]\n",
      "----------------------------------------\n",
      "Guide_cost_rupees (467 unique): [1032 1037 3525 3807  900 1259 2251 2171 2876 1051]\n",
      "----------------------------------------\n",
      "Permit_fee_rupees (239 unique): [   0 1477 1123  408 1127  326 1495  808 1148 1381]\n",
      "----------------------------------------\n",
      "age (43 unique): [56 20 38 22 54 53 52 40 39 48]\n",
      "----------------------------------------\n",
      "zip_code (500 unique): [593444 973664 391558 296421 195158  59727 706304 966380 863732 816280]\n",
      "----------------------------------------\n",
      "emergency contact details (500 unique): [  2075544566     19825149    269706764   9573835727   8833655734\n",
      "    331713827   8385973221   9346014931 919203110886   5487845399]\n",
      "----------------------------------------\n",
      "Hotel_Price_per_day (458 unique): [1694 1410 2568 1218 2380 2770 3997 1534 3383 1614]\n",
      "----------------------------------------\n",
      "trek_total_cost(rupees) (495 unique): [23439 22860 39875 11476  9876 14300 36467 16746 25131 10056]\n",
      "----------------------------------------\n"
     ]
    }
   ],
   "source": [
    "for col in ordered_df.columns:\n",
    "    uniques = ordered_df[col].unique()\n",
    "    print(f\"{col} ({len(uniques)} unique): {uniques[:10]}\")  # first 10 only\n",
    "    print(\"-\" * 40)\n",
    "\n"
   ]
  },
  {
   "cell_type": "code",
   "execution_count": 11,
   "id": "06171f69",
   "metadata": {},
   "outputs": [],
   "source": [
    "import pandas as pd\n",
    "\n",
    "# Define the columns to drop\n",
    "cols_to_drop = [\n",
    "    'trek_ID', \n",
    "    'Contact Email',\n",
    "    'Company Name',\n",
    "    'trek_start_date',\n",
    "    'address',\n",
    "    'trek_end_date',\n",
    "    'phone_no',\n",
    "    'Hotel_Name'\n",
    "]\n",
    "\n",
    "# Drop those columns from the DataFrame\n",
    "df_filtered = df.drop(columns=cols_to_drop)\n",
    "\n",
    "# Separate object and int columns\n",
    "object_cols = df_filtered.select_dtypes(include=['object'])\n",
    "int_cols = df_filtered.select_dtypes(include=['int64'])\n",
    "\n",
    "# Combine with object columns first\n",
    "final_df = pd.concat([object_cols, int_cols], axis=1)\n",
    "\n",
    "# Save to CSV\n",
    "final_df.to_csv('object_first_int_next.csv', index=False)\n"
   ]
  },
  {
   "cell_type": "code",
   "execution_count": 12,
   "id": "96734c8a",
   "metadata": {},
   "outputs": [
    {
     "name": "stdout",
     "output_type": "stream",
     "text": [
      "<class 'pandas.core.frame.DataFrame'>\n",
      "RangeIndex: 500 entries, 0 to 499\n",
      "Data columns (total 42 columns):\n",
      " #   Column                                  Non-Null Count  Dtype \n",
      "---  ------                                  --------------  ----- \n",
      " 0   Trek_Location                           500 non-null    object\n",
      " 1   Region                                  500 non-null    object\n",
      " 2   Country                                 500 non-null    object\n",
      " 3   Industry                                500 non-null    object\n",
      " 4   Difficulty                              500 non-null    object\n",
      " 5   Season                                  500 non-null    object\n",
      " 6   Weather                                 500 non-null    object\n",
      " 7   Accessibility                           500 non-null    object\n",
      " 8   Accommodation                           500 non-null    object\n",
      " 9   Currency                                500 non-null    object\n",
      " 10  Best_Season                             500 non-null    object\n",
      " 11  Best_Month                              500 non-null    object\n",
      " 12  surname                                 500 non-null    object\n",
      " 13  gender                                  500 non-null    object\n",
      " 14  city                                    500 non-null    object\n",
      " 15  state                                   500 non-null    object\n",
      " 16  traveler_name                           500 non-null    object\n",
      " 17  health_check_up                         500 non-null    object\n",
      " 18  payment status                          500 non-null    object\n",
      " 19  booking_status                          500 non-null    object\n",
      " 20  traveller_profession                    500 non-null    object\n",
      " 21  payment information                     500 non-null    object\n",
      " 22  identification documents (for permits)  500 non-null    object\n",
      " 23  City                                    500 non-null    object\n",
      " 24  trek_type                               500 non-null    object\n",
      " 25  Backpack                                500 non-null    object\n",
      " 26  Footwear                                500 non-null    object\n",
      " 27  waterproof/windproof jackets            500 non-null    object\n",
      " 28  trekking_shoes                          500 non-null    object\n",
      " 29  Lighting                                500 non-null    object\n",
      " 30  Cash/online                             500 non-null    object\n",
      " 31  Duration_days                           500 non-null    int64 \n",
      " 32  Elevation_gain_m                        500 non-null    int64 \n",
      " 33  Max_altitude_m                          500 non-null    int64 \n",
      " 34  Group_size                              500 non-null    int64 \n",
      " 35  Guide_cost_rupees                       500 non-null    int64 \n",
      " 36  Permit_fee_rupees                       500 non-null    int64 \n",
      " 37  age                                     500 non-null    int64 \n",
      " 38  zip_code                                500 non-null    int64 \n",
      " 39  emergency contact details               500 non-null    int64 \n",
      " 40  Hotel_Price_per_day                     500 non-null    int64 \n",
      " 41  trek_total_cost(rupees)                 500 non-null    int64 \n",
      "dtypes: int64(11), object(31)\n",
      "memory usage: 164.2+ KB\n"
     ]
    }
   ],
   "source": [
    "final_df.info()"
   ]
  },
  {
   "cell_type": "code",
   "execution_count": 13,
   "id": "366f4940",
   "metadata": {},
   "outputs": [
    {
     "name": "stdout",
     "output_type": "stream",
     "text": [
      "We have 11 numerical features : ['Duration_days', 'Elevation_gain_m', 'Max_altitude_m', 'Group_size', 'Guide_cost_rupees', 'Permit_fee_rupees', 'age', 'zip_code', 'emergency contact details', 'Hotel_Price_per_day', 'trek_total_cost(rupees)']\n",
      "\n",
      "We have 31 categorical features : ['Trek_Location', 'Region', 'Country', 'Industry', 'Difficulty', 'Season', 'Weather', 'Accessibility', 'Accommodation', 'Currency', 'Best_Season', 'Best_Month', 'surname', 'gender', 'city', 'state', 'traveler_name', 'health_check_up', 'payment status', 'booking_status', 'traveller_profession', 'payment information', 'identification documents (for permits)', 'City', 'trek_type', 'Backpack', 'Footwear', 'waterproof/windproof jackets', 'trekking_shoes', 'Lighting', 'Cash/online']\n"
     ]
    }
   ],
   "source": [
    "# define numerical & categorical columns\n",
    "numeric_features = [feature for feature in final_df.columns if final_df[feature].dtype != 'O'] # not equal to Object\n",
    "categorical_features = [feature for feature in final_df.columns if final_df[feature].dtype == 'O']\n",
    "\n",
    "# print columns\n",
    "print('We have {} numerical features : {}'.format(len(numeric_features), numeric_features))\n",
    "print('\\nWe have {} categorical features : {}'.format(len(categorical_features), categorical_features))"
   ]
  },
  {
   "cell_type": "code",
   "execution_count": null,
   "id": "d091e447",
   "metadata": {},
   "outputs": [
    {
     "name": "stdout",
     "output_type": "stream",
     "text": [
      "<class 'pandas.core.frame.DataFrame'>\n",
      "RangeIndex: 500 entries, 0 to 499\n",
      "Data columns (total 50 columns):\n",
      " #   Column                                  Non-Null Count  Dtype \n",
      "---  ------                                  --------------  ----- \n",
      " 0   trek_ID                                 500 non-null    object\n",
      " 1   Company Name                            500 non-null    object\n",
      " 2   Trek_Location                           500 non-null    object\n",
      " 3   Region                                  500 non-null    object\n",
      " 4   Country                                 500 non-null    object\n",
      " 5   Industry                                500 non-null    object\n",
      " 6   Contact Email                           500 non-null    object\n",
      " 7   Duration_days                           500 non-null    int64 \n",
      " 8   Elevation_gain_m                        500 non-null    int64 \n",
      " 9   Max_altitude_m                          500 non-null    int64 \n",
      " 10  Difficulty                              500 non-null    object\n",
      " 11  Season                                  500 non-null    object\n",
      " 12  Weather                                 500 non-null    object\n",
      " 13  Accessibility                           500 non-null    object\n",
      " 14  Group_size                              500 non-null    int64 \n",
      " 15  Accommodation                           500 non-null    object\n",
      " 16  Guide_cost_rupees                       500 non-null    int64 \n",
      " 17  Permit_fee_rupees                       500 non-null    int64 \n",
      " 18  Currency                                500 non-null    object\n",
      " 19  Best_Season                             500 non-null    object\n",
      " 20  Best_Month                              500 non-null    object\n",
      " 21  surname                                 500 non-null    object\n",
      " 22  address                                 500 non-null    object\n",
      " 23  phone_no                                500 non-null    object\n",
      " 24  gender                                  500 non-null    object\n",
      " 25  age                                     500 non-null    int64 \n",
      " 26  city                                    500 non-null    object\n",
      " 27  state                                   500 non-null    object\n",
      " 28  zip_code                                500 non-null    int64 \n",
      " 29  traveler_name                           500 non-null    object\n",
      " 30  health_check_up                         500 non-null    object\n",
      " 31  emergency contact details               500 non-null    int64 \n",
      " 32  payment status                          500 non-null    object\n",
      " 33  booking_status                          500 non-null    object\n",
      " 34  traveller_profession                    500 non-null    object\n",
      " 35  payment information                     500 non-null    object\n",
      " 36  identification documents (for permits)  500 non-null    object\n",
      " 37  Hotel_Name                              500 non-null    object\n",
      " 38  City                                    500 non-null    object\n",
      " 39  Hotel_Price_per_day                     500 non-null    int64 \n",
      " 40  trek_start_date                         500 non-null    object\n",
      " 41  trek_end_date                           500 non-null    object\n",
      " 42  trek_total_cost(rupees)                 500 non-null    int64 \n",
      " 43  trek_type                               500 non-null    object\n",
      " 44  Backpack                                500 non-null    object\n",
      " 45  Footwear                                500 non-null    object\n",
      " 46  waterproof/windproof jackets            500 non-null    object\n",
      " 47  trekking_shoes                          500 non-null    object\n",
      " 48  Lighting                                500 non-null    object\n",
      " 49  Cash/online                             500 non-null    object\n",
      "dtypes: int64(11), object(39)\n",
      "memory usage: 195.4+ KB\n"
     ]
    }
   ],
   "source": [
    "# Select int and object columns\n",
    "int_and_object_df = df.select_dtypes(include=['int64', 'object'])\n",
    "int_and_object_df.info()\n",
    "# Save to CSV\n",
    "#int_and_object_df.to_csv('int_obj_only.csv', index=False)"
   ]
  },
  {
   "cell_type": "markdown",
   "id": "20634923",
   "metadata": {},
   "source": [
    "#### Show Top 5 Records"
   ]
  },
  {
   "cell_type": "markdown",
   "id": "4954bc8d",
   "metadata": {},
   "source": [
    "### Use target-guided ordinal encoding when:\n",
    "- You have a categorical feature with many unique values. \n",
    "- You believe there's a strong relationship between the categorical feature and the target variable. \n",
    "- The relationship with the target variable implies an ordinal nature that can be exploited by the model. "
   ]
  },
  {
   "cell_type": "code",
   "execution_count": 48,
   "id": "e7e412a2",
   "metadata": {},
   "outputs": [
    {
     "data": {
      "text/html": [
       "<div>\n",
       "<style scoped>\n",
       "    .dataframe tbody tr th:only-of-type {\n",
       "        vertical-align: middle;\n",
       "    }\n",
       "\n",
       "    .dataframe tbody tr th {\n",
       "        vertical-align: top;\n",
       "    }\n",
       "\n",
       "    .dataframe thead th {\n",
       "        text-align: right;\n",
       "    }\n",
       "</style>\n",
       "<table border=\"1\" class=\"dataframe\">\n",
       "  <thead>\n",
       "    <tr style=\"text-align: right;\">\n",
       "      <th></th>\n",
       "      <th>trek_ID</th>\n",
       "      <th>Company Name</th>\n",
       "      <th>Trek_Location</th>\n",
       "      <th>trek_rating</th>\n",
       "      <th>Region</th>\n",
       "      <th>Country</th>\n",
       "      <th>Industry</th>\n",
       "      <th>Contact Email</th>\n",
       "      <th>Distance_km</th>\n",
       "      <th>Duration_days</th>\n",
       "      <th>...</th>\n",
       "      <th>pool</th>\n",
       "      <th>bar</th>\n",
       "      <th>trek_total_cost(rupees)</th>\n",
       "      <th>trek_type</th>\n",
       "      <th>Backpack</th>\n",
       "      <th>Footwear</th>\n",
       "      <th>waterproof/windproof jackets</th>\n",
       "      <th>trekking_shoes</th>\n",
       "      <th>Lighting</th>\n",
       "      <th>Cash/online</th>\n",
       "    </tr>\n",
       "  </thead>\n",
       "  <tbody>\n",
       "    <tr>\n",
       "      <th>0</th>\n",
       "      <td>TREK1000</td>\n",
       "      <td>Bhatnagar LLC Adventures</td>\n",
       "      <td>Rishikesh</td>\n",
       "      <td>3.9</td>\n",
       "      <td>Northeast India</td>\n",
       "      <td>India</td>\n",
       "      <td>Travel</td>\n",
       "      <td>tandonshivani@example.in</td>\n",
       "      <td>103.22</td>\n",
       "      <td>14</td>\n",
       "      <td>...</td>\n",
       "      <td>False</td>\n",
       "      <td>True</td>\n",
       "      <td>23439</td>\n",
       "      <td>Solo</td>\n",
       "      <td>No</td>\n",
       "      <td>Sandals</td>\n",
       "      <td>No</td>\n",
       "      <td>Yes</td>\n",
       "      <td>Torch</td>\n",
       "      <td>Online</td>\n",
       "    </tr>\n",
       "    <tr>\n",
       "      <th>1</th>\n",
       "      <td>TREK1001</td>\n",
       "      <td>Raghavan, Kadakia and Chandra Adventures</td>\n",
       "      <td>Tawang</td>\n",
       "      <td>4.9</td>\n",
       "      <td>East India</td>\n",
       "      <td>India</td>\n",
       "      <td>Adventure Sports</td>\n",
       "      <td>ybalakrishnan@example.in</td>\n",
       "      <td>39.30</td>\n",
       "      <td>14</td>\n",
       "      <td>...</td>\n",
       "      <td>False</td>\n",
       "      <td>False</td>\n",
       "      <td>22860</td>\n",
       "      <td>Group</td>\n",
       "      <td>No</td>\n",
       "      <td>Sandals</td>\n",
       "      <td>Yes</td>\n",
       "      <td>No</td>\n",
       "      <td>Not_required</td>\n",
       "      <td>Cash</td>\n",
       "    </tr>\n",
       "    <tr>\n",
       "      <th>2</th>\n",
       "      <td>TREK1002</td>\n",
       "      <td>Agate, Sehgal and Lata Adventures</td>\n",
       "      <td>Darjeeling</td>\n",
       "      <td>4.9</td>\n",
       "      <td>West India</td>\n",
       "      <td>India</td>\n",
       "      <td>Tourism</td>\n",
       "      <td>harshnadkarni@example.org</td>\n",
       "      <td>35.40</td>\n",
       "      <td>5</td>\n",
       "      <td>...</td>\n",
       "      <td>False</td>\n",
       "      <td>False</td>\n",
       "      <td>39875</td>\n",
       "      <td>Family</td>\n",
       "      <td>Yes</td>\n",
       "      <td>Trekking Shoes</td>\n",
       "      <td>No</td>\n",
       "      <td>Yes</td>\n",
       "      <td>Not_required</td>\n",
       "      <td>Both</td>\n",
       "    </tr>\n",
       "    <tr>\n",
       "      <th>3</th>\n",
       "      <td>TREK1003</td>\n",
       "      <td>Bal Ltd Adventures</td>\n",
       "      <td>Munnar</td>\n",
       "      <td>3.2</td>\n",
       "      <td>South India</td>\n",
       "      <td>India</td>\n",
       "      <td>Adventure Sports</td>\n",
       "      <td>rajtarak@example.in</td>\n",
       "      <td>43.37</td>\n",
       "      <td>11</td>\n",
       "      <td>...</td>\n",
       "      <td>True</td>\n",
       "      <td>True</td>\n",
       "      <td>11476</td>\n",
       "      <td>Group</td>\n",
       "      <td>No</td>\n",
       "      <td>Sports Shoes</td>\n",
       "      <td>Yes</td>\n",
       "      <td>No</td>\n",
       "      <td>Headlamp</td>\n",
       "      <td>Online</td>\n",
       "    </tr>\n",
       "    <tr>\n",
       "      <th>4</th>\n",
       "      <td>TREK1004</td>\n",
       "      <td>Balakrishnan, Wable and Kapadia Adventures</td>\n",
       "      <td>Munnar</td>\n",
       "      <td>3.5</td>\n",
       "      <td>North India</td>\n",
       "      <td>India</td>\n",
       "      <td>Adventure Sports</td>\n",
       "      <td>jtandon@example.org</td>\n",
       "      <td>95.63</td>\n",
       "      <td>10</td>\n",
       "      <td>...</td>\n",
       "      <td>False</td>\n",
       "      <td>True</td>\n",
       "      <td>9876</td>\n",
       "      <td>Family</td>\n",
       "      <td>No</td>\n",
       "      <td>Sandals</td>\n",
       "      <td>Yes</td>\n",
       "      <td>Yes</td>\n",
       "      <td>Headlamp</td>\n",
       "      <td>Online</td>\n",
       "    </tr>\n",
       "  </tbody>\n",
       "</table>\n",
       "<p>5 rows × 65 columns</p>\n",
       "</div>"
      ],
      "text/plain": [
       "    trek_ID                                Company Name Trek_Location  \\\n",
       "0  TREK1000                    Bhatnagar LLC Adventures     Rishikesh   \n",
       "1  TREK1001    Raghavan, Kadakia and Chandra Adventures        Tawang   \n",
       "2  TREK1002           Agate, Sehgal and Lata Adventures    Darjeeling   \n",
       "3  TREK1003                          Bal Ltd Adventures        Munnar   \n",
       "4  TREK1004  Balakrishnan, Wable and Kapadia Adventures        Munnar   \n",
       "\n",
       "   trek_rating           Region Country          Industry  \\\n",
       "0          3.9  Northeast India   India            Travel   \n",
       "1          4.9       East India   India  Adventure Sports   \n",
       "2          4.9       West India   India           Tourism   \n",
       "3          3.2      South India   India  Adventure Sports   \n",
       "4          3.5      North India   India  Adventure Sports   \n",
       "\n",
       "               Contact Email  Distance_km  Duration_days  ...   pool    bar  \\\n",
       "0   tandonshivani@example.in       103.22             14  ...  False   True   \n",
       "1   ybalakrishnan@example.in        39.30             14  ...  False  False   \n",
       "2  harshnadkarni@example.org        35.40              5  ...  False  False   \n",
       "3        rajtarak@example.in        43.37             11  ...   True   True   \n",
       "4        jtandon@example.org        95.63             10  ...  False   True   \n",
       "\n",
       "  trek_total_cost(rupees) trek_type  Backpack        Footwear  \\\n",
       "0                   23439      Solo        No         Sandals   \n",
       "1                   22860     Group        No         Sandals   \n",
       "2                   39875    Family       Yes  Trekking Shoes   \n",
       "3                   11476     Group        No    Sports Shoes   \n",
       "4                    9876    Family        No         Sandals   \n",
       "\n",
       "  waterproof/windproof jackets  trekking_shoes      Lighting  Cash/online  \n",
       "0                           No             Yes         Torch       Online  \n",
       "1                          Yes              No  Not_required         Cash  \n",
       "2                           No             Yes  Not_required         Both  \n",
       "3                          Yes              No      Headlamp       Online  \n",
       "4                          Yes             Yes      Headlamp       Online  \n",
       "\n",
       "[5 rows x 65 columns]"
      ]
     },
     "execution_count": 48,
     "metadata": {},
     "output_type": "execute_result"
    }
   ],
   "source": [
    "df.head()"
   ]
  },
  {
   "cell_type": "markdown",
   "id": "fbd32281",
   "metadata": {},
   "source": [
    "#### Preparing X and Y variables"
   ]
  },
  {
   "cell_type": "code",
   "execution_count": 49,
   "id": "56d72fde",
   "metadata": {},
   "outputs": [],
   "source": [
    "X = df.drop(columns=['trek_total_cost(rupees)'],axis=1)"
   ]
  },
  {
   "cell_type": "code",
   "execution_count": 50,
   "id": "cd613177",
   "metadata": {},
   "outputs": [
    {
     "data": {
      "text/html": [
       "<div>\n",
       "<style scoped>\n",
       "    .dataframe tbody tr th:only-of-type {\n",
       "        vertical-align: middle;\n",
       "    }\n",
       "\n",
       "    .dataframe tbody tr th {\n",
       "        vertical-align: top;\n",
       "    }\n",
       "\n",
       "    .dataframe thead th {\n",
       "        text-align: right;\n",
       "    }\n",
       "</style>\n",
       "<table border=\"1\" class=\"dataframe\">\n",
       "  <thead>\n",
       "    <tr style=\"text-align: right;\">\n",
       "      <th></th>\n",
       "      <th>trek_ID</th>\n",
       "      <th>Company Name</th>\n",
       "      <th>Trek_Location</th>\n",
       "      <th>trek_rating</th>\n",
       "      <th>Region</th>\n",
       "      <th>Country</th>\n",
       "      <th>Industry</th>\n",
       "      <th>Contact Email</th>\n",
       "      <th>Distance_km</th>\n",
       "      <th>Duration_days</th>\n",
       "      <th>...</th>\n",
       "      <th>dinner</th>\n",
       "      <th>pool</th>\n",
       "      <th>bar</th>\n",
       "      <th>trek_type</th>\n",
       "      <th>Backpack</th>\n",
       "      <th>Footwear</th>\n",
       "      <th>waterproof/windproof jackets</th>\n",
       "      <th>trekking_shoes</th>\n",
       "      <th>Lighting</th>\n",
       "      <th>Cash/online</th>\n",
       "    </tr>\n",
       "  </thead>\n",
       "  <tbody>\n",
       "    <tr>\n",
       "      <th>0</th>\n",
       "      <td>TREK1000</td>\n",
       "      <td>Bhatnagar LLC Adventures</td>\n",
       "      <td>Rishikesh</td>\n",
       "      <td>3.9</td>\n",
       "      <td>Northeast India</td>\n",
       "      <td>India</td>\n",
       "      <td>Travel</td>\n",
       "      <td>tandonshivani@example.in</td>\n",
       "      <td>103.22</td>\n",
       "      <td>14</td>\n",
       "      <td>...</td>\n",
       "      <td>False</td>\n",
       "      <td>False</td>\n",
       "      <td>True</td>\n",
       "      <td>Solo</td>\n",
       "      <td>No</td>\n",
       "      <td>Sandals</td>\n",
       "      <td>No</td>\n",
       "      <td>Yes</td>\n",
       "      <td>Torch</td>\n",
       "      <td>Online</td>\n",
       "    </tr>\n",
       "    <tr>\n",
       "      <th>1</th>\n",
       "      <td>TREK1001</td>\n",
       "      <td>Raghavan, Kadakia and Chandra Adventures</td>\n",
       "      <td>Tawang</td>\n",
       "      <td>4.9</td>\n",
       "      <td>East India</td>\n",
       "      <td>India</td>\n",
       "      <td>Adventure Sports</td>\n",
       "      <td>ybalakrishnan@example.in</td>\n",
       "      <td>39.30</td>\n",
       "      <td>14</td>\n",
       "      <td>...</td>\n",
       "      <td>True</td>\n",
       "      <td>False</td>\n",
       "      <td>False</td>\n",
       "      <td>Group</td>\n",
       "      <td>No</td>\n",
       "      <td>Sandals</td>\n",
       "      <td>Yes</td>\n",
       "      <td>No</td>\n",
       "      <td>Not_required</td>\n",
       "      <td>Cash</td>\n",
       "    </tr>\n",
       "  </tbody>\n",
       "</table>\n",
       "<p>2 rows × 64 columns</p>\n",
       "</div>"
      ],
      "text/plain": [
       "    trek_ID                              Company Name Trek_Location  \\\n",
       "0  TREK1000                  Bhatnagar LLC Adventures     Rishikesh   \n",
       "1  TREK1001  Raghavan, Kadakia and Chandra Adventures        Tawang   \n",
       "\n",
       "   trek_rating           Region Country          Industry  \\\n",
       "0          3.9  Northeast India   India            Travel   \n",
       "1          4.9       East India   India  Adventure Sports   \n",
       "\n",
       "              Contact Email  Distance_km  Duration_days  ...  dinner   pool  \\\n",
       "0  tandonshivani@example.in       103.22             14  ...   False  False   \n",
       "1  ybalakrishnan@example.in        39.30             14  ...    True  False   \n",
       "\n",
       "     bar trek_type  Backpack Footwear waterproof/windproof jackets  \\\n",
       "0   True      Solo        No  Sandals                           No   \n",
       "1  False     Group        No  Sandals                          Yes   \n",
       "\n",
       "   trekking_shoes      Lighting  Cash/online  \n",
       "0             Yes         Torch       Online  \n",
       "1              No  Not_required         Cash  \n",
       "\n",
       "[2 rows x 64 columns]"
      ]
     },
     "execution_count": 50,
     "metadata": {},
     "output_type": "execute_result"
    }
   ],
   "source": [
    "X.head(2)"
   ]
  },
  {
   "cell_type": "code",
   "execution_count": null,
   "id": "d7555634",
   "metadata": {},
   "outputs": [],
   "source": []
  },
  {
   "cell_type": "code",
   "execution_count": 52,
   "id": "924b7f9d",
   "metadata": {},
   "outputs": [],
   "source": [
    "y = df['trek_total_cost(rupees)']"
   ]
  },
  {
   "cell_type": "code",
   "execution_count": 53,
   "id": "ffc69816",
   "metadata": {},
   "outputs": [
    {
     "data": {
      "text/plain": [
       "0      23439\n",
       "1      22860\n",
       "2      39875\n",
       "3      11476\n",
       "4       9876\n",
       "       ...  \n",
       "495    18622\n",
       "496    26223\n",
       "497    10632\n",
       "498    16419\n",
       "499    40671\n",
       "Name: trek_total_cost(rupees), Length: 500, dtype: int64"
      ]
     },
     "execution_count": 53,
     "metadata": {},
     "output_type": "execute_result"
    }
   ],
   "source": [
    "y"
   ]
  },
  {
   "cell_type": "code",
   "execution_count": 54,
   "id": "805ec4c1",
   "metadata": {},
   "outputs": [
    {
     "name": "stdout",
     "output_type": "stream",
     "text": [
      "<class 'pandas.core.frame.DataFrame'>\n",
      "RangeIndex: 500 entries, 0 to 499\n",
      "Data columns (total 64 columns):\n",
      " #   Column                                  Non-Null Count  Dtype  \n",
      "---  ------                                  --------------  -----  \n",
      " 0   trek_ID                                 500 non-null    object \n",
      " 1   Company Name                            500 non-null    object \n",
      " 2   Trek_Location                           500 non-null    object \n",
      " 3   trek_rating                             500 non-null    float64\n",
      " 4   Region                                  500 non-null    object \n",
      " 5   Country                                 500 non-null    object \n",
      " 6   Industry                                500 non-null    object \n",
      " 7   Contact Email                           500 non-null    object \n",
      " 8   Distance_km                             500 non-null    float64\n",
      " 9   Duration_days                           500 non-null    int64  \n",
      " 10  Elevation_gain_m                        500 non-null    int64  \n",
      " 11  Max_altitude_m                          500 non-null    int64  \n",
      " 12  Difficulty                              500 non-null    object \n",
      " 13  Season                                  500 non-null    object \n",
      " 14  Avg_temp_C                              500 non-null    float64\n",
      " 15  Weather                                 500 non-null    object \n",
      " 16  Accessibility                           500 non-null    object \n",
      " 17  Group_size                              500 non-null    int64  \n",
      " 18  Accommodation                           500 non-null    object \n",
      " 19  Permit_required                         500 non-null    bool   \n",
      " 20  Guide_cost_rupees                       500 non-null    int64  \n",
      " 21  Permit_fee_rupees                       500 non-null    int64  \n",
      " 22  Local_cost_index                        500 non-null    float64\n",
      " 23  Currency                                500 non-null    object \n",
      " 24  Best_Season                             500 non-null    object \n",
      " 25  Best_Month                              500 non-null    object \n",
      " 26  surname                                 500 non-null    object \n",
      " 27  address                                 500 non-null    object \n",
      " 28  phone_no                                500 non-null    object \n",
      " 29  gender                                  500 non-null    object \n",
      " 30  age                                     500 non-null    int64  \n",
      " 31  city                                    500 non-null    object \n",
      " 32  state                                   500 non-null    object \n",
      " 33  zip_code                                500 non-null    int64  \n",
      " 34  traveler_name                           500 non-null    object \n",
      " 35  health_check_up                         500 non-null    object \n",
      " 36  emergency contact details               500 non-null    int64  \n",
      " 37  payment status                          500 non-null    object \n",
      " 38  booking_status                          500 non-null    object \n",
      " 39  traveller_profession                    500 non-null    object \n",
      " 40  payment information                     500 non-null    object \n",
      " 41  identification documents (for permits)  500 non-null    object \n",
      " 42  weight                                  500 non-null    float64\n",
      " 43  height                                  500 non-null    float64\n",
      " 44  bmi                                     500 non-null    float64\n",
      " 45  Hotel_Name                              500 non-null    object \n",
      " 46  accommodation_rating                    500 non-null    float64\n",
      " 47  City                                    500 non-null    object \n",
      " 48  Hotel_Price_per_day                     500 non-null    int64  \n",
      " 49  trek_start_date                         500 non-null    object \n",
      " 50  trek_end_date                           500 non-null    object \n",
      " 51  wi-fi_facility                          500 non-null    bool   \n",
      " 52  breakfast                               500 non-null    bool   \n",
      " 53  lunch                                   500 non-null    bool   \n",
      " 54  dinner                                  500 non-null    bool   \n",
      " 55  pool                                    500 non-null    bool   \n",
      " 56  bar                                     500 non-null    bool   \n",
      " 57  trek_type                               500 non-null    object \n",
      " 58  Backpack                                500 non-null    object \n",
      " 59  Footwear                                500 non-null    object \n",
      " 60  waterproof/windproof jackets            500 non-null    object \n",
      " 61  trekking_shoes                          500 non-null    object \n",
      " 62  Lighting                                500 non-null    object \n",
      " 63  Cash/online                             500 non-null    object \n",
      "dtypes: bool(7), float64(8), int64(10), object(39)\n",
      "memory usage: 226.2+ KB\n"
     ]
    }
   ],
   "source": [
    "X.info()"
   ]
  },
  {
   "cell_type": "code",
   "execution_count": 55,
   "id": "69026387",
   "metadata": {},
   "outputs": [
    {
     "name": "stdout",
     "output_type": "stream",
     "text": [
      "<class 'pandas.core.series.Series'>\n",
      "RangeIndex: 500 entries, 0 to 499\n",
      "Series name: trek_total_cost(rupees)\n",
      "Non-Null Count  Dtype\n",
      "--------------  -----\n",
      "500 non-null    int64\n",
      "dtypes: int64(1)\n",
      "memory usage: 4.0 KB\n"
     ]
    }
   ],
   "source": [
    "y.info()"
   ]
  },
  {
   "cell_type": "code",
   "execution_count": 56,
   "id": "2cda103b",
   "metadata": {},
   "outputs": [
    {
     "name": "stdout",
     "output_type": "stream",
     "text": [
      "We have 26 numerical features : ['trek_rating', 'Distance_km', 'Duration_days', 'Elevation_gain_m', 'Max_altitude_m', 'Avg_temp_C', 'Group_size', 'Permit_required', 'Guide_cost_rupees', 'Permit_fee_rupees', 'Local_cost_index', 'age', 'zip_code', 'emergency contact details', 'weight', 'height', 'bmi', 'accommodation_rating', 'Hotel_Price_per_day', 'wi-fi_facility', 'breakfast', 'lunch', 'dinner', 'pool', 'bar', 'trek_total_cost(rupees)']\n",
      "\n",
      "We have 39 categorical features : ['trek_ID', 'Company Name', 'Trek_Location', 'Region', 'Country', 'Industry', 'Contact Email', 'Difficulty', 'Season', 'Weather', 'Accessibility', 'Accommodation', 'Currency', 'Best_Season', 'Best_Month', 'surname', 'address', 'phone_no', 'gender', 'city', 'state', 'traveler_name', 'health_check_up', 'payment status', 'booking_status', 'traveller_profession', 'payment information', 'identification documents (for permits)', 'Hotel_Name', 'City', 'trek_start_date', 'trek_end_date', 'trek_type', 'Backpack', 'Footwear', 'waterproof/windproof jackets', 'trekking_shoes', 'Lighting', 'Cash/online']\n"
     ]
    }
   ],
   "source": [
    "# define numerical & categorical columns\n",
    "numeric_features = [feature for feature in df.columns if df[feature].dtype != 'O'] # not equal to Object\n",
    "categorical_features = [feature for feature in df.columns if df[feature].dtype == 'O']\n",
    "\n",
    "# print columns\n",
    "print('We have {} numerical features : {}'.format(len(numeric_features), numeric_features))\n",
    "print('\\nWe have {} categorical features : {}'.format(len(categorical_features), categorical_features))"
   ]
  },
  {
   "cell_type": "code",
   "execution_count": null,
   "id": "ab08273a",
   "metadata": {},
   "outputs": [],
   "source": []
  },
  {
   "cell_type": "code",
   "execution_count": 57,
   "id": "1e290fe3",
   "metadata": {},
   "outputs": [],
   "source": [
    "# Create Column Transformer with 3 types of transformers\n",
    "num_features = X.select_dtypes(exclude=\"object\").columns\n",
    "cat_features = X.select_dtypes(include=\"object\").columns\n",
    "\n",
    "from sklearn.preprocessing import OneHotEncoder, StandardScaler\n",
    "from sklearn.compose import ColumnTransformer\n",
    "\n",
    "numeric_transformer = StandardScaler()\n",
    "oh_transformer = OneHotEncoder()\n",
    "\n",
    "preprocessor = ColumnTransformer(\n",
    "    [\n",
    "        (\"OneHotEncoder\", oh_transformer, cat_features),\n",
    "        (\"StandardScaler\", numeric_transformer, num_features),        \n",
    "    ]\n",
    ")"
   ]
  },
  {
   "cell_type": "code",
   "execution_count": 58,
   "id": "722b5a09",
   "metadata": {},
   "outputs": [
    {
     "data": {
      "text/plain": [
       "Index(['trek_rating', 'Distance_km', 'Duration_days', 'Elevation_gain_m',\n",
       "       'Max_altitude_m', 'Avg_temp_C', 'Group_size', 'Permit_required',\n",
       "       'Guide_cost_rupees', 'Permit_fee_rupees', 'Local_cost_index', 'age',\n",
       "       'zip_code', 'emergency contact details', 'weight', 'height', 'bmi',\n",
       "       'accommodation_rating', 'Hotel_Price_per_day', 'wi-fi_facility',\n",
       "       'breakfast', 'lunch', 'dinner', 'pool', 'bar'],\n",
       "      dtype='object')"
      ]
     },
     "execution_count": 58,
     "metadata": {},
     "output_type": "execute_result"
    }
   ],
   "source": [
    "# X\n",
    "num_features"
   ]
  },
  {
   "cell_type": "code",
   "execution_count": 59,
   "id": "75de1e43",
   "metadata": {},
   "outputs": [
    {
     "data": {
      "text/plain": [
       "Index(['trek_ID', 'Company Name', 'Trek_Location', 'Region', 'Country',\n",
       "       'Industry', 'Contact Email', 'Difficulty', 'Season', 'Weather',\n",
       "       'Accessibility', 'Accommodation', 'Currency', 'Best_Season',\n",
       "       'Best_Month', 'surname', 'address', 'phone_no', 'gender', 'city',\n",
       "       'state', 'traveler_name', 'health_check_up', 'payment status',\n",
       "       'booking_status', 'traveller_profession', 'payment information',\n",
       "       'identification documents (for permits)', 'Hotel_Name', 'City',\n",
       "       'trek_start_date', 'trek_end_date', 'trek_type', 'Backpack', 'Footwear',\n",
       "       'waterproof/windproof jackets', 'trekking_shoes', 'Lighting',\n",
       "       'Cash/online'],\n",
       "      dtype='object')"
      ]
     },
     "execution_count": 59,
     "metadata": {},
     "output_type": "execute_result"
    }
   ],
   "source": [
    "# X\n",
    "cat_features"
   ]
  },
  {
   "cell_type": "code",
   "execution_count": 60,
   "id": "9c68f99a",
   "metadata": {},
   "outputs": [],
   "source": [
    "X = preprocessor.fit_transform(X)"
   ]
  },
  {
   "cell_type": "code",
   "execution_count": 61,
   "id": "72459f1d",
   "metadata": {},
   "outputs": [
    {
     "data": {
      "text/plain": [
       "(500, 4392)"
      ]
     },
     "execution_count": 61,
     "metadata": {},
     "output_type": "execute_result"
    }
   ],
   "source": [
    "X.shape"
   ]
  },
  {
   "cell_type": "code",
   "execution_count": 62,
   "id": "cb644e8c",
   "metadata": {},
   "outputs": [
    {
     "data": {
      "text/plain": [
       "<Compressed Sparse Row sparse matrix of dtype 'float64'\n",
       "\twith 32000 stored elements and shape (500, 4392)>"
      ]
     },
     "execution_count": 62,
     "metadata": {},
     "output_type": "execute_result"
    }
   ],
   "source": [
    "X"
   ]
  },
  {
   "cell_type": "code",
   "execution_count": 63,
   "id": "6cf1fb68",
   "metadata": {},
   "outputs": [
    {
     "data": {
      "text/plain": [
       "0      23439\n",
       "1      22860\n",
       "2      39875\n",
       "3      11476\n",
       "4       9876\n",
       "       ...  \n",
       "495    18622\n",
       "496    26223\n",
       "497    10632\n",
       "498    16419\n",
       "499    40671\n",
       "Name: trek_total_cost(rupees), Length: 500, dtype: int64"
      ]
     },
     "execution_count": 63,
     "metadata": {},
     "output_type": "execute_result"
    }
   ],
   "source": [
    "y"
   ]
  },
  {
   "cell_type": "code",
   "execution_count": 64,
   "id": "7bb07da5",
   "metadata": {},
   "outputs": [
    {
     "data": {
      "text/plain": [
       "(500,)"
      ]
     },
     "execution_count": 64,
     "metadata": {},
     "output_type": "execute_result"
    }
   ],
   "source": [
    "y.shape"
   ]
  },
  {
   "cell_type": "markdown",
   "id": "2b8eb1cd",
   "metadata": {},
   "source": []
  },
  {
   "cell_type": "code",
   "execution_count": 65,
   "id": "ed5c4e99",
   "metadata": {},
   "outputs": [
    {
     "data": {
      "text/plain": [
       "((400, 4392), (100, 4392))"
      ]
     },
     "execution_count": 65,
     "metadata": {},
     "output_type": "execute_result"
    }
   ],
   "source": [
    "# separate dataset into train and test\n",
    "from sklearn.model_selection import train_test_split\n",
    "X_train, X_test, y_train, y_test = train_test_split(X,y,test_size=0.2,random_state=42)\n",
    "X_train.shape, X_test.shape"
   ]
  },
  {
   "cell_type": "code",
   "execution_count": 66,
   "id": "73f6fb68",
   "metadata": {},
   "outputs": [
    {
     "data": {
      "text/plain": [
       "(400, 4392)"
      ]
     },
     "execution_count": 66,
     "metadata": {},
     "output_type": "execute_result"
    }
   ],
   "source": [
    "X_train.shape"
   ]
  },
  {
   "cell_type": "markdown",
   "id": "2091bc12",
   "metadata": {},
   "source": [
    "## Ensure target is a 2D column"
   ]
  },
  {
   "cell_type": "code",
   "execution_count": 67,
   "id": "731815a8",
   "metadata": {},
   "outputs": [
    {
     "data": {
      "text/plain": [
       "(400,)"
      ]
     },
     "execution_count": 67,
     "metadata": {},
     "output_type": "execute_result"
    }
   ],
   "source": [
    "y_train.shape"
   ]
  },
  {
   "cell_type": "markdown",
   "id": "4cd80317",
   "metadata": {},
   "source": [
    "#### Create an Evaluate Function to give all metrics after model Training"
   ]
  },
  {
   "cell_type": "code",
   "execution_count": 68,
   "id": "8c247bd0",
   "metadata": {},
   "outputs": [],
   "source": [
    "def evaluate_model(true, predicted):\n",
    "    mae = mean_absolute_error(true, predicted)\n",
    "    mse = mean_squared_error(true, predicted)\n",
    "    rmse = np.sqrt(mean_squared_error(true, predicted))\n",
    "    r2_square = r2_score(true, predicted)\n",
    "    return mae, rmse, r2_square"
   ]
  },
  {
   "cell_type": "code",
   "execution_count": 69,
   "id": "79ccb8e7",
   "metadata": {
    "scrolled": false
   },
   "outputs": [
    {
     "name": "stdout",
     "output_type": "stream",
     "text": [
      "Linear Regression\n",
      "Model performance for Training set\n",
      "- Root Mean Squared Error: 0.3148\n",
      "- Mean Absolute Error: 0.2529\n",
      "- R2 Score: 1.0000\n",
      "----------------------------------\n",
      "Model performance for Test set\n",
      "- Root Mean Squared Error: 13506.2462\n",
      "- Mean Absolute Error: 11246.4702\n",
      "- R2 Score: -0.5877\n",
      "===================================\n",
      "\n",
      "\n"
     ]
    },
    {
     "name": "stderr",
     "output_type": "stream",
     "text": [
      "/usr/local/lib/python3.10/site-packages/sklearn/linear_model/_coordinate_descent.py:656: ConvergenceWarning: Objective did not converge. You might want to increase the number of iterations, check the scale of the features or consider increasing regularisation. Duality gap: 7.545e+07, tolerance: 4.859e+06\n",
      "  model = cd_fast.sparse_enet_coordinate_descent(\n"
     ]
    },
    {
     "name": "stdout",
     "output_type": "stream",
     "text": [
      "Lasso\n",
      "Model performance for Training set\n",
      "- Root Mean Squared Error: 296.2327\n",
      "- Mean Absolute Error: 253.9579\n",
      "- R2 Score: 0.9993\n",
      "----------------------------------\n",
      "Model performance for Test set\n",
      "- Root Mean Squared Error: 14847.0444\n",
      "- Mean Absolute Error: 12149.5910\n",
      "- R2 Score: -0.9185\n",
      "===================================\n",
      "\n",
      "\n",
      "Ridge\n",
      "Model performance for Training set\n",
      "- Root Mean Squared Error: 861.1255\n",
      "- Mean Absolute Error: 725.9137\n",
      "- R2 Score: 0.9939\n",
      "----------------------------------\n",
      "Model performance for Test set\n",
      "- Root Mean Squared Error: 13417.3360\n",
      "- Mean Absolute Error: 11181.8302\n",
      "- R2 Score: -0.5668\n",
      "===================================\n",
      "\n",
      "\n",
      "K-Neighbors Regressor\n",
      "Model performance for Training set\n",
      "- Root Mean Squared Error: 10157.8088\n",
      "- Mean Absolute Error: 8602.8550\n",
      "- R2 Score: 0.1506\n",
      "----------------------------------\n",
      "Model performance for Test set\n",
      "- Root Mean Squared Error: 12006.1121\n",
      "- Mean Absolute Error: 10460.0860\n",
      "- R2 Score: -0.2546\n",
      "===================================\n",
      "\n",
      "\n",
      "Decision Tree\n",
      "Model performance for Training set\n",
      "- Root Mean Squared Error: 0.0000\n",
      "- Mean Absolute Error: 0.0000\n",
      "- R2 Score: 1.0000\n",
      "----------------------------------\n",
      "Model performance for Test set\n",
      "- Root Mean Squared Error: 15946.6787\n",
      "- Mean Absolute Error: 12935.6500\n",
      "- R2 Score: -1.2133\n",
      "===================================\n",
      "\n",
      "\n",
      "Random Forest Regressor\n",
      "Model performance for Training set\n",
      "- Root Mean Squared Error: 4220.7782\n",
      "- Mean Absolute Error: 3613.7377\n",
      "- R2 Score: 0.8533\n",
      "----------------------------------\n",
      "Model performance for Test set\n",
      "- Root Mean Squared Error: 11538.5136\n",
      "- Mean Absolute Error: 9696.8295\n",
      "- R2 Score: -0.1588\n",
      "===================================\n",
      "\n",
      "\n",
      "XGBRegressor\n",
      "Model performance for Training set\n",
      "- Root Mean Squared Error: 296.3231\n",
      "- Mean Absolute Error: 233.4279\n",
      "- R2 Score: 0.9993\n",
      "----------------------------------\n",
      "Model performance for Test set\n",
      "- Root Mean Squared Error: 12646.8779\n",
      "- Mean Absolute Error: 10564.2910\n",
      "- R2 Score: -0.3921\n",
      "===================================\n",
      "\n",
      "\n",
      "CatBoosting Regressor\n",
      "Model performance for Training set\n",
      "- Root Mean Squared Error: 864.0913\n",
      "- Mean Absolute Error: 750.6621\n",
      "- R2 Score: 0.9939\n",
      "----------------------------------\n",
      "Model performance for Test set\n",
      "- Root Mean Squared Error: 11871.0836\n",
      "- Mean Absolute Error: 10020.0743\n",
      "- R2 Score: -0.2265\n",
      "===================================\n",
      "\n",
      "\n",
      "AdaBoost Regressor\n",
      "Model performance for Training set\n",
      "- Root Mean Squared Error: 9038.3510\n",
      "- Mean Absolute Error: 8042.4277\n",
      "- R2 Score: 0.3275\n",
      "----------------------------------\n",
      "Model performance for Test set\n",
      "- Root Mean Squared Error: 11354.0077\n",
      "- Mean Absolute Error: 9718.4769\n",
      "- R2 Score: -0.1220\n",
      "===================================\n",
      "\n",
      "\n"
     ]
    }
   ],
   "source": [
    "models = {\n",
    "    \"Linear Regression\": LinearRegression(),\n",
    "    \"Lasso\": Lasso(),\n",
    "    \"Ridge\": Ridge(),\n",
    "    \"K-Neighbors Regressor\": KNeighborsRegressor(),\n",
    "    \"Decision Tree\": DecisionTreeRegressor(),\n",
    "    \"Random Forest Regressor\": RandomForestRegressor(),\n",
    "    \"XGBRegressor\": XGBRegressor(), \n",
    "    \"CatBoosting Regressor\": CatBoostRegressor(verbose=False),\n",
    "    \"AdaBoost Regressor\": AdaBoostRegressor()\n",
    "}\n",
    "model_list = []\n",
    "r2_list =[]\n",
    "\n",
    "for i in range(len(list(models))):\n",
    "    model = list(models.values())[i]\n",
    "    model.fit(X_train, y_train) # Train model\n",
    "\n",
    "    # Make predictions\n",
    "    y_train_pred = model.predict(X_train)\n",
    "    y_test_pred = model.predict(X_test)\n",
    "    \n",
    "    # Evaluate Train and Test dataset\n",
    "    model_train_mae , model_train_rmse, model_train_r2 = evaluate_model(y_train, y_train_pred)\n",
    "\n",
    "    model_test_mae , model_test_rmse, model_test_r2 = evaluate_model(y_test, y_test_pred)\n",
    "\n",
    "    \n",
    "    print(list(models.keys())[i])\n",
    "    model_list.append(list(models.keys())[i])\n",
    "    \n",
    "    print('Model performance for Training set')\n",
    "    print(\"- Root Mean Squared Error: {:.4f}\".format(model_train_rmse))\n",
    "    print(\"- Mean Absolute Error: {:.4f}\".format(model_train_mae))\n",
    "    print(\"- R2 Score: {:.4f}\".format(model_train_r2))\n",
    "\n",
    "    print('----------------------------------')\n",
    "    \n",
    "    print('Model performance for Test set')\n",
    "    print(\"- Root Mean Squared Error: {:.4f}\".format(model_test_rmse))\n",
    "    print(\"- Mean Absolute Error: {:.4f}\".format(model_test_mae))\n",
    "    print(\"- R2 Score: {:.4f}\".format(model_test_r2))\n",
    "    r2_list.append(model_test_r2)\n",
    "    \n",
    "    print('='*35)\n",
    "    print('\\n')"
   ]
  },
  {
   "cell_type": "markdown",
   "id": "06480b5a",
   "metadata": {},
   "source": [
    "### Results"
   ]
  },
  {
   "cell_type": "code",
   "execution_count": 70,
   "id": "e0159e5f",
   "metadata": {},
   "outputs": [
    {
     "data": {
      "text/html": [
       "<div>\n",
       "<style scoped>\n",
       "    .dataframe tbody tr th:only-of-type {\n",
       "        vertical-align: middle;\n",
       "    }\n",
       "\n",
       "    .dataframe tbody tr th {\n",
       "        vertical-align: top;\n",
       "    }\n",
       "\n",
       "    .dataframe thead th {\n",
       "        text-align: right;\n",
       "    }\n",
       "</style>\n",
       "<table border=\"1\" class=\"dataframe\">\n",
       "  <thead>\n",
       "    <tr style=\"text-align: right;\">\n",
       "      <th></th>\n",
       "      <th>Model Name</th>\n",
       "      <th>R2_Score</th>\n",
       "    </tr>\n",
       "  </thead>\n",
       "  <tbody>\n",
       "    <tr>\n",
       "      <th>8</th>\n",
       "      <td>AdaBoost Regressor</td>\n",
       "      <td>-0.121992</td>\n",
       "    </tr>\n",
       "    <tr>\n",
       "      <th>5</th>\n",
       "      <td>Random Forest Regressor</td>\n",
       "      <td>-0.158753</td>\n",
       "    </tr>\n",
       "    <tr>\n",
       "      <th>7</th>\n",
       "      <td>CatBoosting Regressor</td>\n",
       "      <td>-0.226512</td>\n",
       "    </tr>\n",
       "    <tr>\n",
       "      <th>3</th>\n",
       "      <td>K-Neighbors Regressor</td>\n",
       "      <td>-0.254573</td>\n",
       "    </tr>\n",
       "    <tr>\n",
       "      <th>6</th>\n",
       "      <td>XGBRegressor</td>\n",
       "      <td>-0.392060</td>\n",
       "    </tr>\n",
       "    <tr>\n",
       "      <th>2</th>\n",
       "      <td>Ridge</td>\n",
       "      <td>-0.566837</td>\n",
       "    </tr>\n",
       "    <tr>\n",
       "      <th>0</th>\n",
       "      <td>Linear Regression</td>\n",
       "      <td>-0.587671</td>\n",
       "    </tr>\n",
       "    <tr>\n",
       "      <th>1</th>\n",
       "      <td>Lasso</td>\n",
       "      <td>-0.918542</td>\n",
       "    </tr>\n",
       "    <tr>\n",
       "      <th>4</th>\n",
       "      <td>Decision Tree</td>\n",
       "      <td>-1.213256</td>\n",
       "    </tr>\n",
       "  </tbody>\n",
       "</table>\n",
       "</div>"
      ],
      "text/plain": [
       "                Model Name  R2_Score\n",
       "8       AdaBoost Regressor -0.121992\n",
       "5  Random Forest Regressor -0.158753\n",
       "7    CatBoosting Regressor -0.226512\n",
       "3    K-Neighbors Regressor -0.254573\n",
       "6             XGBRegressor -0.392060\n",
       "2                    Ridge -0.566837\n",
       "0        Linear Regression -0.587671\n",
       "1                    Lasso -0.918542\n",
       "4            Decision Tree -1.213256"
      ]
     },
     "execution_count": 70,
     "metadata": {},
     "output_type": "execute_result"
    }
   ],
   "source": [
    "pd.DataFrame(list(zip(model_list, r2_list)), columns=['Model Name', 'R2_Score']).sort_values(by=[\"R2_Score\"],ascending=False)"
   ]
  },
  {
   "cell_type": "markdown",
   "id": "357a7c1c",
   "metadata": {},
   "source": [
    "## Linear Regression"
   ]
  },
  {
   "cell_type": "code",
   "execution_count": 71,
   "id": "9a6ad559",
   "metadata": {},
   "outputs": [
    {
     "name": "stdout",
     "output_type": "stream",
     "text": [
      " Accuracy of the model is -58.77\n"
     ]
    }
   ],
   "source": [
    "lin_model = LinearRegression(fit_intercept=True)\n",
    "lin_model = lin_model.fit(X_train, y_train)\n",
    "y_pred = lin_model.predict(X_test)\n",
    "score = r2_score(y_test, y_pred)*100\n",
    "print(\" Accuracy of the model is %.2f\" %score)"
   ]
  },
  {
   "cell_type": "markdown",
   "id": "1d31453e",
   "metadata": {},
   "source": [
    "## Plot y_pred and y_test"
   ]
  },
  {
   "cell_type": "code",
   "execution_count": 72,
   "id": "eb557b0a",
   "metadata": {},
   "outputs": [
    {
     "data": {
      "image/png": "[encoded data removed]",
      "text/plain": [
       "<Figure size 640x480 with 1 Axes>"
      ]
     },
     "metadata": {},
     "output_type": "display_data"
    }
   ],
   "source": [
    "plt.scatter(y_test,y_pred);\n",
    "plt.xlabel('Actual');\n",
    "plt.ylabel('Predicted');"
   ]
  },
  {
   "cell_type": "code",
   "execution_count": 73,
   "id": "1e707ec3",
   "metadata": {},
   "outputs": [
    {
     "data": {
      "image/png": "[encoded data removed]",
      "text/plain": [
       "<Figure size 640x480 with 1 Axes>"
      ]
     },
     "metadata": {},
     "output_type": "display_data"
    }
   ],
   "source": [
    "sns.regplot(x=y_test,y=y_pred,ci=None,color ='red');"
   ]
  },
  {
   "cell_type": "markdown",
   "id": "79c2fe28",
   "metadata": {},
   "source": [
    "#### Difference between Actual and Predicted Values"
   ]
  },
  {
   "cell_type": "code",
   "execution_count": 74,
   "id": "7c9a8b48",
   "metadata": {},
   "outputs": [
    {
     "data": {
      "text/html": [
       "<div>\n",
       "<style scoped>\n",
       "    .dataframe tbody tr th:only-of-type {\n",
       "        vertical-align: middle;\n",
       "    }\n",
       "\n",
       "    .dataframe tbody tr th {\n",
       "        vertical-align: top;\n",
       "    }\n",
       "\n",
       "    .dataframe thead th {\n",
       "        text-align: right;\n",
       "    }\n",
       "</style>\n",
       "<table border=\"1\" class=\"dataframe\">\n",
       "  <thead>\n",
       "    <tr style=\"text-align: right;\">\n",
       "      <th></th>\n",
       "      <th>Actual Value</th>\n",
       "      <th>Predicted Value</th>\n",
       "      <th>Difference</th>\n",
       "    </tr>\n",
       "  </thead>\n",
       "  <tbody>\n",
       "    <tr>\n",
       "      <th>361</th>\n",
       "      <td>28520</td>\n",
       "      <td>33183.949159</td>\n",
       "      <td>-4663.949159</td>\n",
       "    </tr>\n",
       "    <tr>\n",
       "      <th>73</th>\n",
       "      <td>30269</td>\n",
       "      <td>29209.918725</td>\n",
       "      <td>1059.081275</td>\n",
       "    </tr>\n",
       "    <tr>\n",
       "      <th>374</th>\n",
       "      <td>11963</td>\n",
       "      <td>17612.672699</td>\n",
       "      <td>-5649.672699</td>\n",
       "    </tr>\n",
       "    <tr>\n",
       "      <th>155</th>\n",
       "      <td>28117</td>\n",
       "      <td>32409.147470</td>\n",
       "      <td>-4292.147470</td>\n",
       "    </tr>\n",
       "    <tr>\n",
       "      <th>104</th>\n",
       "      <td>40296</td>\n",
       "      <td>27964.207184</td>\n",
       "      <td>12331.792816</td>\n",
       "    </tr>\n",
       "    <tr>\n",
       "      <th>...</th>\n",
       "      <td>...</td>\n",
       "      <td>...</td>\n",
       "      <td>...</td>\n",
       "    </tr>\n",
       "    <tr>\n",
       "      <th>347</th>\n",
       "      <td>14890</td>\n",
       "      <td>32810.463181</td>\n",
       "      <td>-17920.463181</td>\n",
       "    </tr>\n",
       "    <tr>\n",
       "      <th>86</th>\n",
       "      <td>36537</td>\n",
       "      <td>24657.250790</td>\n",
       "      <td>11879.749210</td>\n",
       "    </tr>\n",
       "    <tr>\n",
       "      <th>75</th>\n",
       "      <td>24885</td>\n",
       "      <td>28369.656576</td>\n",
       "      <td>-3484.656576</td>\n",
       "    </tr>\n",
       "    <tr>\n",
       "      <th>438</th>\n",
       "      <td>12574</td>\n",
       "      <td>30788.787087</td>\n",
       "      <td>-18214.787087</td>\n",
       "    </tr>\n",
       "    <tr>\n",
       "      <th>15</th>\n",
       "      <td>11684</td>\n",
       "      <td>30580.568645</td>\n",
       "      <td>-18896.568645</td>\n",
       "    </tr>\n",
       "  </tbody>\n",
       "</table>\n",
       "<p>100 rows × 3 columns</p>\n",
       "</div>"
      ],
      "text/plain": [
       "     Actual Value  Predicted Value    Difference\n",
       "361         28520     33183.949159  -4663.949159\n",
       "73          30269     29209.918725   1059.081275\n",
       "374         11963     17612.672699  -5649.672699\n",
       "155         28117     32409.147470  -4292.147470\n",
       "104         40296     27964.207184  12331.792816\n",
       "..            ...              ...           ...\n",
       "347         14890     32810.463181 -17920.463181\n",
       "86          36537     24657.250790  11879.749210\n",
       "75          24885     28369.656576  -3484.656576\n",
       "438         12574     30788.787087 -18214.787087\n",
       "15          11684     30580.568645 -18896.568645\n",
       "\n",
       "[100 rows x 3 columns]"
      ]
     },
     "execution_count": 74,
     "metadata": {},
     "output_type": "execute_result"
    }
   ],
   "source": [
    "pred_df=pd.DataFrame({'Actual Value':y_test,'Predicted Value':y_pred,'Difference':y_test-y_pred})\n",
    "pred_df"
   ]
  },
  {
   "cell_type": "code",
   "execution_count": null,
   "id": "3acf1fbc",
   "metadata": {},
   "outputs": [],
   "source": []
  }
 ],
 "metadata": {
  "kernelspec": {
   "display_name": "Python 3",
   "language": "python",
   "name": "python3"
  },
  "language_info": {
   "codemirror_mode": {
    "name": "ipython",
    "version": 3
   },
   "file_extension": ".py",
   "mimetype": "text/x-python",
   "name": "python",
   "nbconvert_exporter": "python",
   "pygments_lexer": "ipython3",
   "version": "3.10.16"
  }
 },
 "nbformat": 4,
 "nbformat_minor": 5
}
